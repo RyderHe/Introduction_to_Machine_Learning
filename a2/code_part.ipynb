{
 "cells": [
  {
   "cell_type": "markdown",
   "metadata": {},
   "source": [
    "# Exercise1"
   ]
  },
  {
   "cell_type": "markdown",
   "metadata": {},
   "source": [
    "## <span style=\"color:blue\"> Part 2 </span>"
   ]
  },
  {
   "cell_type": "markdown",
   "metadata": {},
   "source": [
    "### read data"
   ]
  },
  {
   "cell_type": "code",
   "execution_count": 1,
   "metadata": {},
   "outputs": [],
   "source": [
    "import pandas as pd\n",
    "import numpy as np"
   ]
  },
  {
   "cell_type": "code",
   "execution_count": 2,
   "metadata": {},
   "outputs": [],
   "source": [
    "df_X_test = pd.read_csv('housing_X_test.csv',header=None)\n",
    "df_X_train = pd.read_csv('housing_X_train.csv',header=None)\n",
    "df_y_test = pd.read_csv('housing_y_test.csv',header=None)\n",
    "df_y_train = pd.read_csv('housing_y_train.csv',header=None)"
   ]
  },
  {
   "cell_type": "code",
   "execution_count": 3,
   "metadata": {},
   "outputs": [],
   "source": [
    "X_test = df_X_test.values.transpose()\n",
    "X_train = df_X_train.values.transpose()\n",
    "y_test = df_y_test.values\n",
    "y_train = df_y_train.values"
   ]
  },
  {
   "cell_type": "markdown",
   "metadata": {},
   "source": [
    "### error and loss"
   ]
  },
  {
   "cell_type": "markdown",
   "metadata": {},
   "source": [
    "$$\\min_{\\mathbf{w}\\in R^d, b\\in R} ~ \\overbrace{\\underbrace{\\tfrac{1}{2n} \\|X \\mathbf{w}+ b\\mathbf{1} - \\mathbf{y}\\|_2^2}_{\\mbox{error}} + \\lambda \\|\\mathbf{w}\\|_2^2}^{\\mbox{loss}}$$"
   ]
  },
  {
   "cell_type": "code",
   "execution_count": 4,
   "metadata": {},
   "outputs": [],
   "source": [
    "def error(X, y, w, b, lamb):\n",
    "    n = len(X) \n",
    "    ones= np.ones((n, 1))\n",
    "    temp = X.dot(w) + b * ones - y\n",
    "    norm = np.linalg.norm(temp)\n",
    "    error = (1 / (2 * n)) * (norm ** 2)\n",
    "    return error"
   ]
  },
  {
   "cell_type": "code",
   "execution_count": 5,
   "metadata": {},
   "outputs": [],
   "source": [
    "def loss(X, y, w, b, lamb):\n",
    "    err = error(X, y, w, b, lamb)\n",
    "    temp = lamb * (np.linalg.norm(w) ** 2)\n",
    "    return err + temp"
   ]
  },
  {
   "cell_type": "markdown",
   "metadata": {},
   "source": [
    "### gradient descent for ridge regression"
   ]
  },
  {
   "cell_type": "markdown",
   "metadata": {},
   "source": [
    "$$\\frac{\\partial}{\\partial\\mathbf{w}} = \\tfrac1n X^\\top (X\\mathbf{w} + b\\mathbf{1} - \\mathbf{y}) + 2 \\lambda \\mathbf{w}$$"
   ]
  },
  {
   "cell_type": "code",
   "execution_count": 6,
   "metadata": {},
   "outputs": [],
   "source": [
    "# returen gradient of w: R^d\n",
    "def gradient_w(X,y,w,b, lamb):\n",
    "    n = len(X) \n",
    "    ones= np.ones((n, 1))\n",
    "    temp = X.dot(w) + b * ones - y\n",
    "    return 1 / n * np.transpose(X).dot(temp) + 2 * lamb * w "
   ]
  },
  {
   "cell_type": "markdown",
   "metadata": {},
   "source": [
    "$$\\frac{\\partial}{\\partial b} = \\tfrac1n \\mathbf{1}^\\top (X\\mathbf{w} + b\\mathbf{1} - \\mathbf{y})$$"
   ]
  },
  {
   "cell_type": "code",
   "execution_count": 7,
   "metadata": {},
   "outputs": [],
   "source": [
    "# return gradient of b:R\n",
    "def gradient_b(X,y,w,b,lamb):\n",
    "    n = len(X) \n",
    "    ones = np.ones((n, 1))\n",
    "    temp = X.dot(w) + b * ones - y\n",
    "    return (1 / n *  np.transpose(ones).dot(temp))"
   ]
  },
  {
   "cell_type": "code",
   "execution_count": 8,
   "metadata": {},
   "outputs": [],
   "source": [
    "# return  w, b, loss & error\n",
    "def gradient_ridge_regression(X_train, y_train, w0, b0, max_pass, step_size, tol, lamb):\n",
    "    prev_w = w0\n",
    "    curr_w = w0\n",
    "    prev_b= b0\n",
    "    curr_b = b0\n",
    "    train_error_lst = []\n",
    "    train_loss_lst = []\n",
    "    test_error_lst = []\n",
    "    for t in range(1, max_pass+1):\n",
    "        # calculate gradient\n",
    "        gradient_prev_w = gradient_w(X_train,y_train,prev_w,prev_b, lamb)\n",
    "        gradient_prev_b = gradient_b(X_train,y_train,prev_w,prev_b, lamb)\n",
    "        # calculate w & b\n",
    "        curr_w = prev_w - step_size * gradient_prev_w\n",
    "        curr_b = prev_b - step_size * gradient_prev_b\n",
    "        # calculate error and loss\n",
    "        curr_train_error = error(X_train, y_train, curr_w, curr_b, lamb)\n",
    "        curr_train_loss= loss(X_train, y_train, curr_w, curr_b, lamb)\n",
    "        curr_test_error = error(X_test, y_test, curr_w, curr_b, lamb)\n",
    "        \n",
    "        train_error_lst.append(curr_train_error)\n",
    "        train_loss_lst.append(curr_train_loss)\n",
    "        test_error_lst.append(curr_test_error)\n",
    "        \n",
    "        if np.linalg.norm(curr_w - prev_w) <= tol:\n",
    "            break\n",
    "        \n",
    "        prev_w = curr_w\n",
    "        prev_b = curr_b\n",
    "    \n",
    "    return curr_w, curr_b, train_error_lst, train_loss_lst, test_error_lst\n",
    "        "
   ]
  },
  {
   "cell_type": "markdown",
   "metadata": {},
   "source": [
    "### $\\lambda$ = 0"
   ]
  },
  {
   "cell_type": "code",
   "execution_count": 9,
   "metadata": {},
   "outputs": [],
   "source": [
    "# some inputs\n",
    "d = len(X_train[0])\n",
    "w0 = np.zeros((d,1))\n",
    "max_pass = 2000\n",
    "tol = 0.00000001\n",
    "step_size = 0.00000001"
   ]
  },
  {
   "cell_type": "code",
   "execution_count": 10,
   "metadata": {},
   "outputs": [],
   "source": [
    "w_train, b_train, train_error, train_loss, test_error = gradient_ridge_regression(X_train, y_train, w0, 0, max_pass, step_size, tol, 0)"
   ]
  },
  {
   "cell_type": "code",
   "execution_count": 11,
   "metadata": {},
   "outputs": [
    {
     "data": {
      "text/plain": [
       "array([[0.00010801]])"
      ]
     },
     "execution_count": 11,
     "metadata": {},
     "output_type": "execute_result"
    }
   ],
   "source": [
    "b_train"
   ]
  },
  {
   "cell_type": "code",
   "execution_count": 12,
   "metadata": {},
   "outputs": [
    {
     "data": {
      "image/png": "[encoded data removed]",
      "text/plain": [
       "<Figure size 432x288 with 1 Axes>"
      ]
     },
     "metadata": {
      "needs_background": "light"
     },
     "output_type": "display_data"
    }
   ],
   "source": [
    "#%matplotlib notebook\n",
    "%matplotlib inline\n",
    "import matplotlib.pyplot as plt\n",
    "passes = list(range(1,max_pass+1))\n",
    "\n",
    "plt.plot(passes, train_error, '-b', label='training error')\n",
    "plt.plot(passes, train_loss, '--r', label='training loss')\n",
    "plt.plot(passes, test_error, ':g', label='test error')\n",
    "plt.legend(loc = 'upper right')\n",
    "plt.xlabel(\"number of passes\")\n",
    "plt.title('$\\lambda$ = 0')\n",
    "plt.show()"
   ]
  },
  {
   "cell_type": "markdown",
   "metadata": {},
   "source": [
    "### $\\lambda$ = 10"
   ]
  },
  {
   "cell_type": "code",
   "execution_count": 13,
   "metadata": {},
   "outputs": [],
   "source": [
    "w_train, b_train, train_error, train_loss, test_error = gradient_ridge_regression(X_train, y_train, w0, 0, max_pass, step_size, tol, 10)"
   ]
  },
  {
   "cell_type": "code",
   "execution_count": 14,
   "metadata": {},
   "outputs": [
    {
     "data": {
      "text/plain": [
       "array([[0.00010803]])"
      ]
     },
     "execution_count": 14,
     "metadata": {},
     "output_type": "execute_result"
    }
   ],
   "source": [
    "b_train"
   ]
  },
  {
   "cell_type": "code",
   "execution_count": 15,
   "metadata": {},
   "outputs": [
    {
     "data": {
      "image/png": "[encoded data removed]",
      "text/plain": [
       "<Figure size 432x288 with 1 Axes>"
      ]
     },
     "metadata": {
      "needs_background": "light"
     },
     "output_type": "display_data"
    }
   ],
   "source": [
    "#%matplotlib notebook\n",
    "plt.plot(passes, train_error, '-b', label='training error')\n",
    "plt.plot(passes, train_loss, '--r', label='training loss')\n",
    "plt.plot(passes, test_error, ':g', label='test error')\n",
    "plt.legend(loc = 'upper right')\n",
    "plt.xlabel(\"number of passes\")\n",
    "plt.title('$\\lambda$ = 10')\n",
    "plt.show()"
   ]
  },
  {
   "cell_type": "markdown",
   "metadata": {},
   "source": [
    "## <span style=\"color:blue\"> Part 3 </span>"
   ]
  },
  {
   "cell_type": "markdown",
   "metadata": {},
   "source": [
    "### re-implenmentations of gradient descent for ridge regression"
   ]
  },
  {
   "cell_type": "markdown",
   "metadata": {},
   "source": [
    "Given w, directly compute b by setting $\\frac{\\partial}{\\partial b} = \\tfrac1n \\mathbf{1}^\\top (X\\mathbf{w} + b\\mathbf{1} - \\mathbf{y}) = 0$.\n",
    "\n",
    "The solution is: $b = \\frac{<\\mathbf{1} , \\mathbf{y}-X \\mathbf{w}>}{\\|\\mathbf{1}\\|_2^2} = \\frac{\\mathbf{1}^\\top (\\mathbf{y}-X \\mathbf{w})}{\\|\\mathbf{1}\\|_2^2}$"
   ]
  },
  {
   "cell_type": "code",
   "execution_count": 16,
   "metadata": {},
   "outputs": [],
   "source": [
    "# return b\n",
    "def closed_form_b(X,y,w):\n",
    "    n = len(X)\n",
    "    ones = np.ones((n, 1))\n",
    "    temp = y - X.dot(w)\n",
    "    #print(temp)\n",
    "    #print(len(temp))\n",
    "    #print(len(ones))\n",
    "    return np.transpose(ones).dot(y - X.dot(w)) / (np.linalg.norm(ones) ** 2)\n",
    "    #return 10"
   ]
  },
  {
   "cell_type": "code",
   "execution_count": 17,
   "metadata": {},
   "outputs": [],
   "source": [
    "# return  w, b, loss & error\n",
    "def gradient_ridge_regression2(X_train, y_train, w0, b0, max_pass, step_size, tol, lamb):\n",
    "    prev_w = w0\n",
    "    curr_w = w0\n",
    "    prev_b= b0\n",
    "    curr_b = b0\n",
    "    train_error_lst = []\n",
    "    train_loss_lst = []\n",
    "    test_error_lst = []\n",
    "        \n",
    "    for t in range(1, max_pass+1):\n",
    "        # calculate gradient\n",
    "        gradient_prev_w = gradient_w(X_train,y_train,prev_w,prev_b, lamb)\n",
    "        gradient_prev_b = gradient_b(X_train,y_train,prev_w,prev_b, lamb)\n",
    "        # calculate w & b\n",
    "        curr_w = prev_w - step_size * gradient_prev_w\n",
    "        curr_b = closed_form_b(X_train, y_train, curr_w) # ONLY CHANGE HERE #\n",
    "        # calculate error and loss\n",
    "        curr_train_error = error(X_train, y_train, curr_w, curr_b, lamb)\n",
    "        curr_train_loss= loss(X_train, y_train, curr_w, curr_b, lamb)\n",
    "        curr_test_error = error(X_test, y_test, curr_w, curr_b, lamb)\n",
    "        \n",
    "        train_error_lst.append(curr_train_error)\n",
    "        train_loss_lst.append(curr_train_loss)\n",
    "        test_error_lst.append(curr_test_error)\n",
    "        \n",
    "        if np.linalg.norm(curr_w - prev_w) <= tol:\n",
    "            break\n",
    "        \n",
    "        prev_w = curr_w\n",
    "        prev_b = curr_b\n",
    "    \n",
    "    return curr_w, curr_b, train_error_lst, train_loss_lst, test_error_lst\n",
    "        "
   ]
  },
  {
   "cell_type": "markdown",
   "metadata": {},
   "source": [
    "### $\\lambda$ = 0"
   ]
  },
  {
   "cell_type": "code",
   "execution_count": 18,
   "metadata": {},
   "outputs": [],
   "source": [
    "# some inputs\n",
    "d = len(X_train[0])\n",
    "w0 = np.zeros((d,1))\n",
    "max_pass = 100000\n",
    "tol = 0.00000001\n",
    "step_size = 0.00000001"
   ]
  },
  {
   "cell_type": "code",
   "execution_count": 19,
   "metadata": {},
   "outputs": [],
   "source": [
    "w_train, b_train, train_error, train_loss, test_error = gradient_ridge_regression2(X_train, y_train, w0, 0, max_pass, step_size, tol, 0)"
   ]
  },
  {
   "cell_type": "code",
   "execution_count": 20,
   "metadata": {},
   "outputs": [
    {
     "data": {
      "text/plain": [
       "array([[28.40459866]])"
      ]
     },
     "execution_count": 20,
     "metadata": {},
     "output_type": "execute_result"
    }
   ],
   "source": [
    "b_train"
   ]
  },
  {
   "cell_type": "code",
   "execution_count": 21,
   "metadata": {},
   "outputs": [
    {
     "data": {
      "image/png": "[encoded data removed]",
      "text/plain": [
       "<Figure size 432x288 with 1 Axes>"
      ]
     },
     "metadata": {
      "needs_background": "light"
     },
     "output_type": "display_data"
    }
   ],
   "source": [
    "passes = list(range(1,max_pass+1))\n",
    "\n",
    "plt.plot(passes, train_error, '-b', label='training error')\n",
    "plt.plot(passes, train_loss, '--r', label='training loss')\n",
    "plt.plot(passes, test_error, ':g', label='test error')\n",
    "plt.legend(loc = 'upper right')\n",
    "plt.xlabel(\"number of passes\")\n",
    "plt.title('$\\lambda$ = 0 with closed form solution of b')\n",
    "plt.show()"
   ]
  },
  {
   "cell_type": "markdown",
   "metadata": {},
   "source": [
    "### $\\lambda$ = 10"
   ]
  },
  {
   "cell_type": "code",
   "execution_count": 22,
   "metadata": {},
   "outputs": [],
   "source": [
    "w_train, b_train, train_error, train_loss, test_error = gradient_ridge_regression2(X_train, y_train, w0, 0, max_pass, step_size, tol, 10)"
   ]
  },
  {
   "cell_type": "code",
   "execution_count": 23,
   "metadata": {},
   "outputs": [
    {
     "data": {
      "text/plain": [
       "array([[28.41121877]])"
      ]
     },
     "execution_count": 23,
     "metadata": {},
     "output_type": "execute_result"
    }
   ],
   "source": [
    "b_train"
   ]
  },
  {
   "cell_type": "code",
   "execution_count": 24,
   "metadata": {},
   "outputs": [
    {
     "data": {
      "image/png": "[encoded data removed]",
      "text/plain": [
       "<Figure size 432x288 with 1 Axes>"
      ]
     },
     "metadata": {
      "needs_background": "light"
     },
     "output_type": "display_data"
    }
   ],
   "source": [
    "plt.plot(passes, train_error, '-b', label='training error')\n",
    "plt.plot(passes, train_loss, '--r', label='training loss')\n",
    "plt.plot(passes, test_error, ':g', label='test error')\n",
    "plt.legend(loc = 'upper right')\n",
    "plt.xlabel(\"number of passes\")\n",
    "plt.title('$\\lambda$ = 10 with closed form solution of b')\n",
    "plt.show()"
   ]
  },
  {
   "cell_type": "markdown",
   "metadata": {},
   "source": [
    "## <span style=\"color:blue\"> Part 4 </span>"
   ]
  },
  {
   "cell_type": "markdown",
   "metadata": {},
   "source": [
    "Center the data before running the algorithm"
   ]
  },
  {
   "cell_type": "code",
   "execution_count": 25,
   "metadata": {},
   "outputs": [],
   "source": [
    "def center_X(X):\n",
    "    mean = np.mean(X, axis = 0)\n",
    "    n = len(X)\n",
    "    for i in range(n):\n",
    "        curr = X[i]\n",
    "        for j in range(len(curr)):\n",
    "            X[i][j] -= mean[j]\n",
    "    return X"
   ]
  },
  {
   "cell_type": "code",
   "execution_count": 26,
   "metadata": {},
   "outputs": [],
   "source": [
    "def center_y(y):\n",
    "    mean = np.mean(y)\n",
    "    #print(mean)\n",
    "    n = len(y)\n",
    "    for i in range(n):\n",
    "        y[i][0] -= mean\n",
    "    return y"
   ]
  },
  {
   "cell_type": "code",
   "execution_count": 27,
   "metadata": {},
   "outputs": [],
   "source": [
    "centered_X_train = center_X(X_train)\n",
    "centered_y_train = center_y(y_train)\n",
    "centered_X_test = center_X(X_test)\n",
    "centered_y_test = center_y(y_test)"
   ]
  },
  {
   "cell_type": "markdown",
   "metadata": {},
   "source": [
    "### $\\lambda$ = 0"
   ]
  },
  {
   "cell_type": "code",
   "execution_count": 28,
   "metadata": {},
   "outputs": [],
   "source": [
    "# some inputs\n",
    "d = len(X_train[0])\n",
    "w0 = np.zeros((d,1))\n",
    "max_pass = 100000\n",
    "tol = 0.00000001\n",
    "step_size = 0.0000001"
   ]
  },
  {
   "cell_type": "code",
   "execution_count": 29,
   "metadata": {},
   "outputs": [],
   "source": [
    "w_train, b_train, train_error, train_loss, test_error = gradient_ridge_regression2(X_train, y_train, w0, 0, max_pass, step_size, tol, 0)"
   ]
  },
  {
   "cell_type": "code",
   "execution_count": 30,
   "metadata": {},
   "outputs": [
    {
     "data": {
      "text/plain": [
       "array([[1.63703473e-15]])"
      ]
     },
     "execution_count": 30,
     "metadata": {},
     "output_type": "execute_result"
    }
   ],
   "source": [
    "b_train"
   ]
  },
  {
   "cell_type": "markdown",
   "metadata": {},
   "source": [
    "### $\\lambda$ = 10"
   ]
  },
  {
   "cell_type": "code",
   "execution_count": 31,
   "metadata": {},
   "outputs": [],
   "source": [
    "w_train, b_train, train_error, train_loss, test_error = gradient_ridge_regression2(X_train, y_train, w0, 0, max_pass, step_size, tol, 10)"
   ]
  },
  {
   "cell_type": "code",
   "execution_count": 32,
   "metadata": {},
   "outputs": [
    {
     "data": {
      "text/plain": [
       "array([[1.38741596e-15]])"
      ]
     },
     "execution_count": 32,
     "metadata": {},
     "output_type": "execute_result"
    }
   ],
   "source": [
    "b_train"
   ]
  },
  {
   "cell_type": "markdown",
   "metadata": {},
   "source": [
    "In both cases, b is close to 0. So b = 0 is the optimum solution."
   ]
  }
 ],
 "metadata": {
  "kernelspec": {
   "display_name": "Python 3",
   "language": "python",
   "name": "python3"
  },
  "language_info": {
   "codemirror_mode": {
    "name": "ipython",
    "version": 3
   },
   "file_extension": ".py",
   "mimetype": "text/x-python",
   "name": "python",
   "nbconvert_exporter": "python",
   "pygments_lexer": "ipython3",
   "version": "3.7.6"
  }
 },
 "nbformat": 4,
 "nbformat_minor": 2
}
