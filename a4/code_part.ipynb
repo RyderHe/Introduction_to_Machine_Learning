{
 "cells": [
  {
   "cell_type": "code",
   "execution_count": 1,
   "metadata": {},
   "outputs": [],
   "source": [
    "import numpy as np"
   ]
  },
  {
   "cell_type": "markdown",
   "metadata": {},
   "source": [
    "## Q5"
   ]
  },
  {
   "cell_type": "code",
   "execution_count": 2,
   "metadata": {},
   "outputs": [],
   "source": [
    "def hinge_loss(y, y_hat):\n",
    "    return max((1 - y * y_hat), 0)\n",
    "\n",
    "def gradient_w(X_i, y_i, w, hinge):\n",
    "    return w + C * (-2) * X_i * y_i * hinge\n",
    "\n",
    "def gradient_b(X_i, y_i, hinge):\n",
    "    return C * (-2) * y_i * hinge"
   ]
  },
  {
   "cell_type": "code",
   "execution_count": 3,
   "metadata": {},
   "outputs": [],
   "source": [
    "def SGD_SVM(X, y, w, b, max_pass, step_size):\n",
    "    for t in range(max_pass):\n",
    "        n = len(X)\n",
    "        for i in range(n):\n",
    "            y_hat = np.dot(np.transpose(w), X[i]) + b\n",
    "            hinge = hinge_loss(y[i][0], y_hat)\n",
    "            if y[i][0] * y_hat <= 1:\n",
    "                w = w - step_size * gradient_w(X[i], y[i][0], w, hinge)\n",
    "                b = b - step_size * gradient_b(X[i], y[i][0], hinge)\n",
    "            w = 1 / (1 + step_size) * w\n",
    "    return w, b"
   ]
  },
  {
   "cell_type": "markdown",
   "metadata": {},
   "source": [
    "## Q6"
   ]
  },
  {
   "cell_type": "code",
   "execution_count": 4,
   "metadata": {},
   "outputs": [],
   "source": [
    "# some inputs\n",
    "X = np.array([[1,2],[2,1],[3,1],[3,2]])\n",
    "y = np.array([[1],[1],[-1],[-1]])\n",
    "w0 = np.array([0,0])\n",
    "b0 = 0\n",
    "max_pass= 50000\n",
    "step_size = 0.0000001\n",
    "C = 10000\n",
    "\n",
    "w, b = SGD_SVM(X, y, w0, b0, max_pass, step_size)"
   ]
  },
  {
   "cell_type": "code",
   "execution_count": 5,
   "metadata": {},
   "outputs": [
    {
     "data": {
      "text/plain": [
       "10000"
      ]
     },
     "execution_count": 5,
     "metadata": {},
     "output_type": "execute_result"
    }
   ],
   "source": [
    "C"
   ]
  },
  {
   "cell_type": "code",
   "execution_count": 6,
   "metadata": {},
   "outputs": [
    {
     "data": {
      "text/plain": [
       "array([-1.99805291e+00, -7.34489503e-04])"
      ]
     },
     "execution_count": 6,
     "metadata": {},
     "output_type": "execute_result"
    }
   ],
   "source": [
    "w"
   ]
  },
  {
   "cell_type": "code",
   "execution_count": 7,
   "metadata": {},
   "outputs": [
    {
     "data": {
      "text/plain": [
       "4.995740369998062"
      ]
     },
     "execution_count": 7,
     "metadata": {},
     "output_type": "execute_result"
    }
   ],
   "source": [
    "b"
   ]
  },
  {
   "cell_type": "markdown",
   "metadata": {},
   "source": [
    "From the result, we know that w = [-1.99805291e+00, -7.34489503e-04] is very close to [-2, 0] and b = 4.995740369998062 is very close to 5.\n",
    "\n",
    "By using C = 10000, I can recover the hard-margin SVM solution in Q1."
   ]
  }
 ],
 "metadata": {
  "kernelspec": {
   "display_name": "Python 3",
   "language": "python",
   "name": "python3"
  },
  "language_info": {
   "codemirror_mode": {
    "name": "ipython",
    "version": 3
   },
   "file_extension": ".py",
   "mimetype": "text/x-python",
   "name": "python",
   "nbconvert_exporter": "python",
   "pygments_lexer": "ipython3",
   "version": "3.7.4"
  }
 },
 "nbformat": 4,
 "nbformat_minor": 2
}
